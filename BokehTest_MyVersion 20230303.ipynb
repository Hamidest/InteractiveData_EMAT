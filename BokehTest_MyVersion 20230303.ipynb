{
 "cells": [
  {
   "cell_type": "code",
   "execution_count": 58,
   "id": "bf79f9f1",
   "metadata": {},
   "outputs": [],
   "source": [
    "# Step 1.0: Importing the pandas and bokeh\n",
    "from bokeh.plotting import figure, show\n",
    "from bokeh.models import HoverTool\n",
    "from bokeh.io import output_file\n",
    "import pandas as pd\n",
    "\n",
    "# Step 1.1: Reading the csv file and show it\n",
    "df = pd.read_csv('twitchdata.csv')\n",
    "# df.head()"
   ]
  },
  {
   "cell_type": "code",
   "execution_count": 59,
   "id": "9961aed2",
   "metadata": {
    "scrolled": true
   },
   "outputs": [],
   "source": [
    "# Step 2.0 Basic data manipulation\n",
    "df_new=df.groupby(\"Language\")\n",
    "df_WT=df_new[\"Watch time(Minutes)\"].sum().sort_values(ascending=False)\n",
    "# df_WT"
   ]
  },
  {
   "cell_type": "code",
   "execution_count": 36,
   "id": "1fdaa469",
   "metadata": {},
   "outputs": [],
   "source": [
    "# Step 3.0 Bokeh Figure | Create basic bar chart\n",
    "p = figure()\n",
    "x=list(range(len(df_WT.index)))\n",
    "y=list(df_WT/60000000)\n",
    "p.vbar(x=x,top=y,width=0.8)\n",
    "show(p)"
   ]
  },
  {
   "cell_type": "code",
   "execution_count": 57,
   "id": "5a652b85",
   "metadata": {},
   "outputs": [],
   "source": [
    "# Step 4.0 Bokeh Figure | Adding title, and labels\n",
    "# Step 4.1: Drop the english language\n",
    "df_wo_eng=df_WT.drop(labels=\"English\")\n",
    "x=list(df_wo_eng.index)\n",
    "y=pd.Series(df_wo_eng/60000000)\n",
    "# tool\n",
    "p = figure(x_range=x, x_axis_label=\"Languages other than English\",y_axis_label=\"Million-hour\",title=\"Watch time (1m hour)\",toolbar_location=None, tools=\"hover\", tooltips=\"($y): @x\")\n",
    "p.xaxis.major_label_orientation = 1\n",
    "p.line(x=x,y=y,width=5,hover_color=\"red\")\n",
    "show(p)"
   ]
  },
  {
   "cell_type": "code",
   "execution_count": null,
   "id": "8ed78fa6",
   "metadata": {},
   "outputs": [],
   "source": [
    "# Step 5.0: adding Interactivity\n",
    "# setup tools\n",
    "tools = [\"box_select\", \"hover\", \"reset\"]\n",
    "# "
   ]
  }
 ],
 "metadata": {
  "kernelspec": {
   "display_name": "Python 3 (ipykernel)",
   "language": "python",
   "name": "python3"
  },
  "language_info": {
   "codemirror_mode": {
    "name": "ipython",
    "version": 3
   },
   "file_extension": ".py",
   "mimetype": "text/x-python",
   "name": "python",
   "nbconvert_exporter": "python",
   "pygments_lexer": "ipython3",
   "version": "3.9.16"
  }
 },
 "nbformat": 4,
 "nbformat_minor": 5
}
